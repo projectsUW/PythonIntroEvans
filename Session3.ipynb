{
 "cells": [
  {
   "cell_type": "markdown",
   "metadata": {},
   "source": [
    "<img src=\"pics/Evans_Logo.png\" width=\"500\">"
   ]
  },
  {
   "cell_type": "markdown",
   "metadata": {},
   "source": [
    "# Spring 2015\n",
    "\n",
    "# Computational Tools for Public Management and Policy Making: "
   ]
  },
  {
   "cell_type": "markdown",
   "metadata": {},
   "source": [
    "## *Introduction to Social Network Analysis in Python*\n",
    "\n",
    "### *José Manuel Magallanes Ph.D *\n",
    "**email: magajm@uw.edu**\n",
    "\n",
    "* Visiting Professor at Evans School of Public Policy and Governance and Senior Data Science Fellow at eScience Institute, University of Washington, Seattle\n",
    "* Professor of Political Science and Public Policy Methodology, Pontificia Universidad Católica del Perú, Lima\n"
   ]
  },
  {
   "cell_type": "markdown",
   "metadata": {},
   "source": [
    "Plan for this session:\n",
    "1. [Importing Data and Building a Network](#part1) \n",
    "2. [Exploring Network, agents and groups](#part2) \n",
    "3. [Exporting the Network](#part3) "
   ]
  },
  {
   "cell_type": "markdown",
   "metadata": {},
   "source": [
    "<a id='part1'></a>\n",
    "## 1. Importing Data"
   ]
  },
  {
   "cell_type": "markdown",
   "metadata": {},
   "source": [
    "You need to be aware of the format your data has when you need to import it. If you have files already formatted as a network this step is less important. But if you are receiving file from where you need to create the network, the job can be difficult if you are not aware of some simple details shared below.\n",
    "\n",
    "1.1 **Importing Edges List:**\n",
    "\n",
    "An *edge list* is common way to gather information on a network, its format is shown below:\n",
    "\n",
    "<img src=\"pics/edgelist.png\" width=\"500\">\n",
    "\n",
    "This data is about cosponsorship. The data is connecting legislators that presented a bill together. \n",
    "\n",
    "We will use Pandas to get the data:"
   ]
  },
  {
   "cell_type": "code",
   "execution_count": null,
   "metadata": {
    "collapsed": false
   },
   "outputs": [],
   "source": [
    "#name and location of file:\n",
    "fileEdges='data/cosponsorshipEdges.csv'\n",
    "\n",
    "# This reads the CSV file. Not a network yet.\n",
    "import pandas\n",
    "EdgesAsDF=pandas.read_csv(fileEdges)"
   ]
  },
  {
   "cell_type": "markdown",
   "metadata": {},
   "source": [
    "We have a data frame in Python, we will use that information to build the network.\n",
    "To build a network, we will use **Networkx**:"
   ]
  },
  {
   "cell_type": "code",
   "execution_count": null,
   "metadata": {
    "collapsed": false
   },
   "outputs": [],
   "source": [
    "#importing and giving alias:\n",
    "import networkx as net\n",
    "\n",
    "attributesToInclude=['weight','status']\n",
    "NWfromEdges=net.from_pandas_dataframe(EdgesAsDF, 'to', 'from',attributesToInclude)"
   ]
  },
  {
   "cell_type": "code",
   "execution_count": null,
   "metadata": {
    "collapsed": false
   },
   "outputs": [],
   "source": [
    "# Here you can visualize your import:\n",
    "\n",
    "# very important\n",
    "%matplotlib inline \n",
    "\n",
    "net.draw(NWfromEdges)"
   ]
  },
  {
   "cell_type": "code",
   "execution_count": null,
   "metadata": {
    "collapsed": false
   },
   "outputs": [],
   "source": [
    "# How many nodes:\n",
    "len(NWfromEdges.nodes())"
   ]
  },
  {
   "cell_type": "code",
   "execution_count": null,
   "metadata": {
    "collapsed": false
   },
   "outputs": [],
   "source": [
    "# How many nodes:\n",
    "len(NWfromEdges.edges())"
   ]
  },
  {
   "cell_type": "markdown",
   "metadata": {},
   "source": [
    "1.2 **Importing from Adjacency Matrix:**\n",
    "\n",
    "The data below represents the people in the board of most important companies of Peru. The format tells you if they are in the same company board. It doees not represent counts.\n",
    "<img src=\"pics/matrix.png\" width=\"900\">\n",
    "\n",
    "As you see, this is a matrix where 1 indicates two people are connected (both are part of a compaby board), and 0 otherwise. \n",
    "\n",
    "First, get the data:"
   ]
  },
  {
   "cell_type": "code",
   "execution_count": null,
   "metadata": {
    "collapsed": false
   },
   "outputs": [],
   "source": [
    "# Getting the matrix (edges):\n",
    "EdgesAsDF = pandas.read_csv('data/dataFigueroa.csv', index_col=0) # col 0 (first is index)"
   ]
  },
  {
   "cell_type": "code",
   "execution_count": null,
   "metadata": {
    "collapsed": false
   },
   "outputs": [],
   "source": [
    "EdgesAsDF.shape # square?"
   ]
  },
  {
   "cell_type": "markdown",
   "metadata": {},
   "source": [
    "As we have more columns than rows, there might be some extra info in one of the columns. Let's see:"
   ]
  },
  {
   "cell_type": "code",
   "execution_count": null,
   "metadata": {
    "collapsed": false
   },
   "outputs": [],
   "source": [
    "EdgesAsDF.columns[-1:-5:-1] # start:end:increment"
   ]
  },
  {
   "cell_type": "markdown",
   "metadata": {},
   "source": [
    "The adjacency matrix needs not to include the  column (\"Multinacional\") in the data frame:"
   ]
  },
  {
   "cell_type": "code",
   "execution_count": null,
   "metadata": {
    "collapsed": true
   },
   "outputs": [],
   "source": [
    "varsToDrop=['Multinacional']\n",
    "adjacency=EdgesAsDF.drop(varsToDrop,axis=1) "
   ]
  },
  {
   "cell_type": "markdown",
   "metadata": {},
   "source": [
    "To create the network, we first use the numeric values, then add the names to the nodes."
   ]
  },
  {
   "cell_type": "code",
   "execution_count": null,
   "metadata": {
    "collapsed": false
   },
   "outputs": [],
   "source": [
    "#These are the node names\n",
    "nodeLabels=adjacency.index.tolist()"
   ]
  },
  {
   "cell_type": "code",
   "execution_count": null,
   "metadata": {
    "collapsed": false
   },
   "outputs": [],
   "source": [
    "# let's save them\n",
    "nodeLabels=list(adjacency)"
   ]
  },
  {
   "cell_type": "code",
   "execution_count": null,
   "metadata": {
    "collapsed": false
   },
   "outputs": [],
   "source": [
    "# now create the network\n",
    "NWfromMatrix = net.Graph(adjacency.values)  #adjacency.values has no names in the nodes\n",
    "net.draw_random(NWfromMatrix,with_labels=True)"
   ]
  },
  {
   "cell_type": "markdown",
   "metadata": {},
   "source": [
    "Relabelling is easy, if we understand the node structure:"
   ]
  },
  {
   "cell_type": "code",
   "execution_count": null,
   "metadata": {
    "collapsed": false
   },
   "outputs": [],
   "source": [
    "NWfromMatrix.nodes(data=True)"
   ]
  },
  {
   "cell_type": "markdown",
   "metadata": {},
   "source": [
    "The nodes are numbers. According to Networkx, we should use the function **relabel**. This function needs that you create a dictionary, where the **key is  the current node label**, and the **value is the new label**:\n",
    "<br>\n",
    "* <font color='blue'>**NWfromMatrix = net.relabel_nodes(NWfromMatrix, mapping)**</font>\n",
    "\n",
    "Using the command aboce will make the network ready, but let's see how we get the \"mapping\"."
   ]
  },
  {
   "cell_type": "code",
   "execution_count": null,
   "metadata": {
    "collapsed": false
   },
   "outputs": [],
   "source": [
    "# so we need a dict like this:\n",
    "changingLabels={0:\"John\",1:\"Tania\"}\n",
    "changingLabels"
   ]
  },
  {
   "cell_type": "code",
   "execution_count": null,
   "metadata": {
    "collapsed": false
   },
   "outputs": [],
   "source": [
    "# we can NOT do this by hand!\n",
    "# Let's think about an strategy:\n",
    "\n",
    "oldNames=[0,1]\n",
    "newNames=[\"John\",\"Tania\"]\n",
    "zip(oldNames,newNames) #list of tuples:"
   ]
  },
  {
   "cell_type": "code",
   "execution_count": null,
   "metadata": {
    "collapsed": false
   },
   "outputs": [],
   "source": [
    "#can I convert the above to a dict?\n",
    "dict(zip(oldNames,newNames))"
   ]
  },
  {
   "cell_type": "markdown",
   "metadata": {},
   "source": [
    "My mapping strategy of old-new names is clear now:"
   ]
  },
  {
   "cell_type": "code",
   "execution_count": null,
   "metadata": {
    "collapsed": false
   },
   "outputs": [],
   "source": [
    "size=len(NWfromMatrix.nodes())\n",
    "mapping=dict(zip(range(size), nodeLabels))"
   ]
  },
  {
   "cell_type": "code",
   "execution_count": null,
   "metadata": {
    "collapsed": false
   },
   "outputs": [],
   "source": [
    "#take a look:\n",
    "mapping"
   ]
  },
  {
   "cell_type": "code",
   "execution_count": null,
   "metadata": {
    "collapsed": false
   },
   "outputs": [],
   "source": [
    "# Finally add labels to nodes (relabelling):\n",
    "NWfromMatrix = net.relabel_nodes(NWfromMatrix, mapping)"
   ]
  },
  {
   "cell_type": "code",
   "execution_count": null,
   "metadata": {
    "collapsed": false
   },
   "outputs": [],
   "source": [
    "net.draw_random(NWfromMatrix,with_labels=True)"
   ]
  },
  {
   "cell_type": "markdown",
   "metadata": {
    "collapsed": true
   },
   "source": [
    "**1.3 Adjacency List**\n",
    "\n",
    "Here is an adjacency list:\n",
    "<img src=\"pics/adjacency.png\" width=\"900\">\n",
    "\n",
    "In an adjacency list, only the fisrt value in a row is linked to the other ones in the same row. For example, the third row says that Eritrea had had conflicts with Ethiopia and Djibouti. It does not mean the conflict was with both of them at the same time, neither that Ethiopia had a conflict with Djibouti.\n",
    "\n",
    "Importing is in simple steps:"
   ]
  },
  {
   "cell_type": "code",
   "execution_count": null,
   "metadata": {
    "collapsed": false
   },
   "outputs": [],
   "source": [
    "NWfromAdjList=net.read_adjlist(\"data/warsAdjlist.csv\",delimiter=',') # no pandas this time.\n",
    "net.draw_circular(NWfromAdjList)"
   ]
  },
  {
   "cell_type": "markdown",
   "metadata": {},
   "source": [
    "## 2. Exploration <a id='part2'></a>"
   ]
  },
  {
   "cell_type": "markdown",
   "metadata": {},
   "source": [
    "Using the data on Peruvian elites we were usign a while ago:\n",
    "<img src=\"pics/elites.png\" width=\"900\">\n",
    "\n",
    "I used this data previously, when importing the adjacency matrix. Now it is time to explore it."
   ]
  },
  {
   "cell_type": "markdown",
   "metadata": {},
   "source": [
    "### 2.0 A previous step"
   ]
  },
  {
   "cell_type": "markdown",
   "metadata": {},
   "source": [
    "Remember we had an attribute we dropped, but now it is time to use it."
   ]
  },
  {
   "cell_type": "code",
   "execution_count": null,
   "metadata": {
    "collapsed": false
   },
   "outputs": [],
   "source": [
    "# The adjacency matrix did not include the nodes attributes.\n",
    "EdgesAsDF['Multinacional'].head()"
   ]
  },
  {
   "cell_type": "markdown",
   "metadata": {},
   "source": [
    "So the network does not have that information:"
   ]
  },
  {
   "cell_type": "code",
   "execution_count": null,
   "metadata": {
    "collapsed": false
   },
   "outputs": [],
   "source": [
    "NWfromMatrix.nodes(data=True)[:5]"
   ]
  },
  {
   "cell_type": "markdown",
   "metadata": {},
   "source": [
    "Networkx has the fucntion **set_node_attributes** to take care of that, but needs that we prepare the attribute as a **mapping** using a dict, as we did before to relabel the nodes:\n",
    "* We have the node values here: **EdgesAsDF.index**\n",
    "* We have the attribute here: **EdgesAsDF['Multinacional']**\n",
    "\n",
    "So, let's **zip** them into a dict!\n"
   ]
  },
  {
   "cell_type": "code",
   "execution_count": null,
   "metadata": {
    "collapsed": false
   },
   "outputs": [],
   "source": [
    "dict(zip(EdgesAsDF.index,EdgesAsDF['Multinacional']))"
   ]
  },
  {
   "cell_type": "markdown",
   "metadata": {},
   "source": [
    "As this procedure worked well, let's save it into an object:"
   ]
  },
  {
   "cell_type": "code",
   "execution_count": null,
   "metadata": {
    "collapsed": true
   },
   "outputs": [],
   "source": [
    "EdgesAsDF['Names'] = EdgesAsDF.index"
   ]
  },
  {
   "cell_type": "code",
   "execution_count": null,
   "metadata": {
    "collapsed": false
   },
   "outputs": [],
   "source": [
    "attributeToAdd=dict(zip(EdgesAsDF.index,EdgesAsDF['Multinacional']))"
   ]
  },
  {
   "cell_type": "code",
   "execution_count": null,
   "metadata": {
    "collapsed": true
   },
   "outputs": [],
   "source": [
    "net.set_node_attributes(NWfromMatrix, 'Multinational', attributeToAdd)"
   ]
  },
  {
   "cell_type": "markdown",
   "metadata": {},
   "source": [
    "It should have worked:"
   ]
  },
  {
   "cell_type": "code",
   "execution_count": null,
   "metadata": {
    "collapsed": false
   },
   "outputs": [],
   "source": [
    "NWfromMatrix.nodes(data=True)"
   ]
  },
  {
   "cell_type": "markdown",
   "metadata": {},
   "source": [
    "Now we are ready to explore the network as a whole, its communities, and the nodes."
   ]
  },
  {
   "cell_type": "markdown",
   "metadata": {},
   "source": [
    "### 2. 1 Exploring the NETWORK"
   ]
  },
  {
   "cell_type": "markdown",
   "metadata": {},
   "source": [
    "Is this network of businessmen **connected**?\n",
    "\n",
    "If not connected, it means there are sub groups that do not interact with each other."
   ]
  },
  {
   "cell_type": "code",
   "execution_count": null,
   "metadata": {
    "collapsed": false
   },
   "outputs": [],
   "source": [
    "net.is_connected(NWfromMatrix)"
   ]
  },
  {
   "cell_type": "code",
   "execution_count": null,
   "metadata": {
    "collapsed": false
   },
   "outputs": [],
   "source": [
    "net.number_connected_components(NWfromMatrix)"
   ]
  },
  {
   "cell_type": "code",
   "execution_count": null,
   "metadata": {
    "collapsed": false
   },
   "outputs": [],
   "source": [
    "# let's compute: net.connected_components(NWfromMatrix)\n",
    "# and see those elements:\n",
    "\n",
    "for c in net.connected_components(NWfromMatrix):\n",
    "    print c, '\\n'"
   ]
  },
  {
   "cell_type": "markdown",
   "metadata": {},
   "source": [
    "Visuals can help:"
   ]
  },
  {
   "cell_type": "code",
   "execution_count": null,
   "metadata": {
    "collapsed": false
   },
   "outputs": [],
   "source": [
    "import matplotlib.pyplot as plt\n",
    "\n",
    "totalColors=net.number_connected_components(NWfromMatrix)\n",
    "\n",
    "colorsSelected = plt.get_cmap('Paired',totalColors)\n",
    "\n",
    "c = net.number_connected_components(NWfromMatrix)\n",
    "pos=net.spring_layout(NWfromMatrix,k=0.1)\n",
    "C = net.connected_component_subgraphs(NWfromMatrix)\n",
    "i=0\n",
    "for g in C:\n",
    "    net.draw(g,pos,node_color=colorsSelected(i))\n",
    "    i+=1"
   ]
  },
  {
   "cell_type": "markdown",
   "metadata": {},
   "source": [
    "As this context does not have ONE connected networkm but several components, we can pay attention to the Giant Component:"
   ]
  },
  {
   "cell_type": "code",
   "execution_count": null,
   "metadata": {
    "collapsed": false
   },
   "outputs": [],
   "source": [
    "NWfromMatrix_giant = max(net.connected_component_subgraphs(NWfromMatrix), key=len)"
   ]
  },
  {
   "cell_type": "code",
   "execution_count": null,
   "metadata": {
    "collapsed": false
   },
   "outputs": [],
   "source": [
    "#take a look:\n",
    "net.draw(NWfromMatrix_giant)"
   ]
  },
  {
   "cell_type": "markdown",
   "metadata": {},
   "source": [
    "**Knowing this network (Giant Component)**"
   ]
  },
  {
   "cell_type": "code",
   "execution_count": null,
   "metadata": {
    "collapsed": false
   },
   "outputs": [],
   "source": [
    "#number of nodes\n",
    "len(NWfromMatrix_giant.nodes())"
   ]
  },
  {
   "cell_type": "code",
   "execution_count": null,
   "metadata": {
    "collapsed": false
   },
   "outputs": [],
   "source": [
    "#number of edges\n",
    "len(NWfromMatrix_giant.edges())"
   ]
  },
  {
   "cell_type": "code",
   "execution_count": null,
   "metadata": {
    "collapsed": false
   },
   "outputs": [],
   "source": [
    "# Density: \n",
    "#from 0 to 1, where 1 makes it a 'complete' network: there is a link between every pair of nodes.\n",
    "net.density(NWfromMatrix_giant) "
   ]
  },
  {
   "cell_type": "code",
   "execution_count": null,
   "metadata": {
    "collapsed": false
   },
   "outputs": [],
   "source": [
    "# Clustering coefficient of a node is away to measure if my own connections are connected among them.\n",
    "# The average clustering coefficiente tells you the average of those values.\n",
    "net.average_clustering(NWfromMatrix_giant)"
   ]
  },
  {
   "cell_type": "code",
   "execution_count": null,
   "metadata": {
    "collapsed": false
   },
   "outputs": [],
   "source": [
    "# Shorter path (average)\n",
    "# shows the average number of steps it takes to get from one node to another.\n",
    "\n",
    "net.average_shortest_path_length(NWfromMatrix_giant)"
   ]
  },
  {
   "cell_type": "markdown",
   "metadata": {},
   "source": [
    "* **Random networks** have *small shortest path* and *small clustering coefficient*...Is this the case?\n",
    "* The high clustering coefficient would suggest a **small world**, as most nodes are not neighbors of one another, but most nodes can be reached from every other in few steps."
   ]
  },
  {
   "cell_type": "code",
   "execution_count": null,
   "metadata": {
    "collapsed": false
   },
   "outputs": [],
   "source": [
    "# Transitivity\n",
    "\n",
    "# How probable is that two business men with a common business friend, are also friends.\n",
    "net.transitivity(NWfromMatrix_giant)"
   ]
  },
  {
   "cell_type": "code",
   "execution_count": null,
   "metadata": {
    "collapsed": false
   },
   "outputs": [],
   "source": [
    "# Assortativity (degree)\n",
    "# A measure to see if nodes are connecting to other nodes similar in degree.  \n",
    "# closer to 1 means higher assortativity, closer to -1 diassortativity; while 0 no assortitivity.\n",
    "net.degree_assortativity_coefficient(NWfromMatrix_giant)"
   ]
  },
  {
   "cell_type": "code",
   "execution_count": null,
   "metadata": {
    "collapsed": false
   },
   "outputs": [],
   "source": [
    "# you can also compute assortativity using an attribute of interest.\n",
    "net.attribute_assortativity_coefficient(NWfromMatrix_giant,'Multinational')"
   ]
  },
  {
   "cell_type": "markdown",
   "metadata": {},
   "source": [
    "More plotting:"
   ]
  },
  {
   "cell_type": "code",
   "execution_count": null,
   "metadata": {
    "collapsed": false
   },
   "outputs": [],
   "source": [
    "# coloring the nodes by attribute:\n",
    "color_map = plt.get_cmap(\"cool\")  # color palette\n",
    "valuesForColors=[n[1]['Multinational'] for n in NWfromMatrix_giant.nodes(data=True)]\n",
    "net.draw(NWfromMatrix_giant,cmap=color_map,node_color=valuesForColors)"
   ]
  },
  {
   "cell_type": "markdown",
   "metadata": {},
   "source": [
    "### 2.2 Exploration of network communities"
   ]
  },
  {
   "cell_type": "markdown",
   "metadata": {},
   "source": [
    "A **clique** can be understood a community of nodes that are well connected."
   ]
  },
  {
   "cell_type": "code",
   "execution_count": null,
   "metadata": {
    "collapsed": false
   },
   "outputs": [],
   "source": [
    "# How many cliques\n",
    "net.graph_number_of_cliques(NWfromMatrix_giant)"
   ]
  },
  {
   "cell_type": "code",
   "execution_count": null,
   "metadata": {
    "collapsed": false
   },
   "outputs": [],
   "source": [
    "for c in net.enumerate_all_cliques(NWfromMatrix_giant):\n",
    "    print c"
   ]
  },
  {
   "cell_type": "code",
   "execution_count": null,
   "metadata": {
    "collapsed": false
   },
   "outputs": [],
   "source": [
    "# the number of nodes in the biggeest cliques\n",
    "max([len(c) for c in net.enumerate_all_cliques(NWfromMatrix_giant)])"
   ]
  },
  {
   "cell_type": "code",
   "execution_count": null,
   "metadata": {
    "collapsed": false
   },
   "outputs": [],
   "source": [
    "# which are:\n",
    "[c for c in net.enumerate_all_cliques(NWfromMatrix_giant) if len(c) == 8]"
   ]
  },
  {
   "cell_type": "code",
   "execution_count": null,
   "metadata": {
    "collapsed": false
   },
   "outputs": [],
   "source": [
    "# COMMUNITY DETECTION (set of nodes densely connected internally)\n",
    "\n",
    "# based on: https://perso.uclouvain.be/vincent.blondel/research/louvain.html\n",
    "# pip install python-louvain\n",
    "\n",
    "import community \n",
    "parts = community.best_partition(NWfromMatrix_giant)\n",
    "parts"
   ]
  },
  {
   "cell_type": "markdown",
   "metadata": {},
   "source": [
    "'parts' is a dictionary, so we can use it to add an attribute:"
   ]
  },
  {
   "cell_type": "code",
   "execution_count": null,
   "metadata": {
    "collapsed": true
   },
   "outputs": [],
   "source": [
    "net.set_node_attributes(NWfromMatrix_giant, 'community', parts)"
   ]
  },
  {
   "cell_type": "code",
   "execution_count": null,
   "metadata": {
    "collapsed": false
   },
   "outputs": [],
   "source": [
    "pos=net.spring_layout(NWfromMatrix, k=0.2) \n",
    "\n",
    "valuesForColors=[n[1]['community'] for n in NWfromMatrix_giant.nodes(data=True)]\n",
    "\n",
    "## To control size of plot:\n",
    "# import matplotlib.pyplot as plot\n",
    "# plot.figure(figsize=(8,8))\n",
    "\n",
    "plt.axis(\"off\")\n",
    "net.draw_networkx_nodes(NWfromMatrix_giant,pos,cmap = plt.get_cmap(\"cool\"), node_color = valuesForColors, \n",
    "                  node_size = 50, with_labels = False)\n",
    "\n",
    "# edges\n",
    "net.draw_networkx_edges(NWfromMatrix_giant,pos,width=1.0,alpha=0.2)\n",
    "plt.show()"
   ]
  },
  {
   "cell_type": "markdown",
   "metadata": {},
   "source": [
    "### 2.3 Node level exploration"
   ]
  },
  {
   "cell_type": "code",
   "execution_count": null,
   "metadata": {
    "collapsed": false
   },
   "outputs": [],
   "source": [
    "#Central nodes: degree\n",
    "\n",
    "from operator import itemgetter\n",
    "NodeDegree=sorted(NWfromMatrix_giant.degree().items(), key=itemgetter(1),reverse=True)\n",
    "NodeDegree[:5]"
   ]
  },
  {
   "cell_type": "code",
   "execution_count": null,
   "metadata": {
    "collapsed": false
   },
   "outputs": [],
   "source": [
    "# Ego network of Hub?\n",
    "HubNode,HubDegree=NodeDegree[0]\n",
    "HubEgonet=net.ego_graph(NWfromMatrix_giant,HubNode)\n",
    "pos=net.spring_layout(HubEgonet)\n",
    "net.draw(HubEgonet,pos,node_color='b',node_size=800,with_labels=True, alpha=0.5,node_shape='^')\n",
    "net.draw_networkx_nodes(HubEgonet,pos,nodelist=[HubNode],node_size=2000,node_color='r')\n",
    "plt.show()"
   ]
  },
  {
   "cell_type": "code",
   "execution_count": null,
   "metadata": {
    "collapsed": false
   },
   "outputs": [],
   "source": [
    "# minimum number of nodes that must be removed to disconnect the network?\n",
    "netalg.node_connectivity(NWfromMatrix_giant)"
   ]
  },
  {
   "cell_type": "code",
   "execution_count": null,
   "metadata": {
    "collapsed": false
   },
   "outputs": [],
   "source": [
    "#who can break the network?\n",
    "list(net.articulation_points(NWfromMatrix_giant))"
   ]
  },
  {
   "cell_type": "code",
   "execution_count": null,
   "metadata": {
    "collapsed": false
   },
   "outputs": [],
   "source": [
    "# Ego network of articulation node?\n",
    "pos=net.spring_layout(NWfromMatrix_giant,k=0.5)\n",
    "net.draw(NWfromMatrix_giant,pos,node_color='b',node_size=800,with_labels=True, alpha=0.5,node_shape='^')\n",
    "net.draw_networkx_nodes(NWfromMatrix_giant,pos,nodelist=['Bentin'],node_size=2000,node_color='r')\n",
    "plt.show()"
   ]
  },
  {
   "cell_type": "code",
   "execution_count": null,
   "metadata": {
    "collapsed": false
   },
   "outputs": [],
   "source": [
    "# Computing centrality measures:\n",
    "degr=net.degree_centrality(NWfromMatrix_giant)  # based on connections count\n",
    "clos=net.closeness_centrality(NWfromMatrix_giant) # \"speed\" to access the rest\n",
    "betw=net.betweenness_centrality(NWfromMatrix_giant) # \"control flow\" among the network nodes\n",
    "eige=net.eigenvector_centrality(NWfromMatrix_giant) # central nodes connected to central nodes (influential?)"
   ]
  },
  {
   "cell_type": "code",
   "execution_count": null,
   "metadata": {
    "collapsed": false
   },
   "outputs": [],
   "source": [
    "# measures into a data frame:\n",
    "Centrality=[ [rich, degr[rich],clos[rich],betw[rich],eige[rich]] for rich in NWfromMatrix_giant]\n",
    "headers=['Businessman','Degree','Closeness','Betweenness','Eigenvector']\n",
    "DFCentrality=pandas.DataFrame(Centrality,columns=headers)"
   ]
  },
  {
   "cell_type": "code",
   "execution_count": null,
   "metadata": {
    "collapsed": false
   },
   "outputs": [],
   "source": [
    "DFCentrality.head()"
   ]
  },
  {
   "cell_type": "markdown",
   "metadata": {},
   "source": [
    "Representing these nodes (step by step):"
   ]
  },
  {
   "cell_type": "code",
   "execution_count": null,
   "metadata": {
    "collapsed": false
   },
   "outputs": [],
   "source": [
    "import matplotlib.pyplot as plot\n",
    "\n",
    "plot.scatter(DFCentrality.Betweenness, DFCentrality.Closeness)"
   ]
  },
  {
   "cell_type": "code",
   "execution_count": null,
   "metadata": {
    "collapsed": false
   },
   "outputs": [],
   "source": [
    "# size od dot\n",
    "plot.scatter(DFCentrality.Betweenness, DFCentrality.Closeness,s=(DFCentrality.Degree+1.3)**14)"
   ]
  },
  {
   "cell_type": "code",
   "execution_count": null,
   "metadata": {
    "collapsed": false
   },
   "outputs": [],
   "source": [
    "plot.figure(figsize=(20,20)) # size of plot\n",
    "plot.scatter(DFCentrality.Betweenness, DFCentrality.Closeness,s=(DFCentrality.Degree+1.3)**14)"
   ]
  },
  {
   "cell_type": "code",
   "execution_count": null,
   "metadata": {
    "collapsed": false
   },
   "outputs": [],
   "source": [
    "# color of point\n",
    "plot.figure(figsize=(20,20))\n",
    "plot.scatter(DFCentrality.Betweenness, DFCentrality.Closeness,s=(DFCentrality.Degree+1.3)**14,\n",
    "c=DFCentrality.Eigenvector,cmap=plt.get_cmap('YlOrRd'))"
   ]
  },
  {
   "cell_type": "code",
   "execution_count": null,
   "metadata": {
    "collapsed": false
   },
   "outputs": [],
   "source": [
    "\n",
    "plot.figure(figsize=(20,20))\n",
    "plot.scatter(DFCentrality.Betweenness, DFCentrality.Closeness,s=(DFCentrality.Degree+1.3)**14,\n",
    "c=DFCentrality.Eigenvector,cmap=plt.get_cmap('YlOrRd'))\n",
    "\n",
    "\n",
    "# ANNOTATING DOTS:\n",
    "\n",
    "for i in range(len(DFCentrality.index)):\n",
    "    plot.annotate(DFCentrality['Businessman'][i], \n",
    "                  (DFCentrality['Betweenness'][i],DFCentrality['Closeness'][i]),\n",
    "                  fontsize=18,color=\"orange\")"
   ]
  },
  {
   "cell_type": "code",
   "execution_count": null,
   "metadata": {
    "collapsed": false
   },
   "outputs": [],
   "source": [
    "plot.figure(figsize=(20,20))\n",
    "plot.scatter(DFCentrality.Betweenness, DFCentrality.Closeness,s=(DFCentrality.Degree+1.3)**14,\n",
    "c=DFCentrality.Eigenvector,cmap=plt.get_cmap('YlOrRd'))\n",
    "\n",
    "for i in range(len(DFCentrality.index)):\n",
    "    plot.annotate(DFCentrality['Businessman'][i], \n",
    "                  (DFCentrality['Betweenness'][i],DFCentrality['Closeness'][i]),\n",
    "                  fontsize=18,color=\"orange\")\n",
    "\n",
    "# TITLES:\n",
    "\n",
    "plot.title(\"scatterplot (size for degree of node, color for eigenvalue)\")\n",
    "plot.xlabel(\"betweenness\")\n",
    "plot.ylabel(\"closeness\")"
   ]
  },
  {
   "cell_type": "markdown",
   "metadata": {},
   "source": [
    "<a id='part3'></a>\n",
    "## 3. Exporting the Network"
   ]
  },
  {
   "cell_type": "code",
   "execution_count": null,
   "metadata": {
    "collapsed": false
   },
   "outputs": [],
   "source": [
    "net.write_graphml(NWfromMatrix, \"data/ElitePeru.graphml\",encoding='utf-8')\n",
    "net.write_gexf(NWfromMatrix, \"data/ElitePeru.gexf\",encoding='utf-8')"
   ]
  },
  {
   "cell_type": "code",
   "execution_count": null,
   "metadata": {
    "collapsed": false
   },
   "outputs": [],
   "source": [
    "type(NWfromMatrix.nodes(data=True)[1][1][\"Multinational\"])"
   ]
  },
  {
   "cell_type": "code",
   "execution_count": null,
   "metadata": {
    "collapsed": true
   },
   "outputs": [],
   "source": [
    "for i in range(len(NWfromMatrix.nodes(data=True))):\n",
    "    NWfromMatrix.nodes(data=True)[i][1][\"Multinational\"]=int(NWfromMatrix.nodes(data=True)[i][1][\"Multinational\"])"
   ]
  },
  {
   "cell_type": "code",
   "execution_count": null,
   "metadata": {
    "collapsed": true
   },
   "outputs": [],
   "source": [
    "net.write_graphml(NWfromMatrix, \"data/ElitePeru.graphml\",encoding='utf-8')\n",
    "net.write_gexf(NWfromMatrix, \"data/ElitePeru.gexf\",encoding='utf-8')"
   ]
  },
  {
   "cell_type": "code",
   "execution_count": null,
   "metadata": {
    "collapsed": true
   },
   "outputs": [],
   "source": []
  }
 ],
 "metadata": {
  "kernelspec": {
   "display_name": "Python 2",
   "language": "python",
   "name": "python2"
  },
  "language_info": {
   "codemirror_mode": {
    "name": "ipython",
    "version": 2
   },
   "file_extension": ".py",
   "mimetype": "text/x-python",
   "name": "python",
   "nbconvert_exporter": "python",
   "pygments_lexer": "ipython2",
   "version": "2.7.11"
  }
 },
 "nbformat": 4,
 "nbformat_minor": 0
}
